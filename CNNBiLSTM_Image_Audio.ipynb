{
 "cells": [
  {
   "cell_type": "code",
   "execution_count": 1,
   "metadata": {
    "tags": []
   },
   "outputs": [
    {
     "name": "stderr",
     "output_type": "stream",
     "text": [
      "2024-01-05 02:16:56.648304: I tensorflow/core/util/port.cc:110] oneDNN custom operations are on. You may see slightly different numerical results due to floating-point round-off errors from different computation orders. To turn them off, set the environment variable `TF_ENABLE_ONEDNN_OPTS=0`.\n",
      "2024-01-05 02:16:56.723359: I tensorflow/core/platform/cpu_feature_guard.cc:182] This TensorFlow binary is optimized to use available CPU instructions in performance-critical operations.\n",
      "To enable the following instructions: AVX2 AVX512F AVX512_VNNI FMA, in other operations, rebuild TensorFlow with the appropriate compiler flags.\n",
      "2024-01-05 02:16:57.785130: W tensorflow/compiler/tf2tensorrt/utils/py_utils.cc:38] TF-TRT Warning: Could not find TensorRT\n"
     ]
    },
    {
     "name": "stdout",
     "output_type": "stream",
     "text": [
      "categories ['Anger', 'Disgust', 'Fear', 'Happy', 'Neutral', 'Sad']\n",
      "start process Anger all imagefiles 2667 all audiofiles 2667\n",
      "start process Disgust all imagefiles 2793 all audiofiles 2793\n",
      "start process Fear all imagefiles 2369 all audiofiles 2369\n",
      "start process Happy all imagefiles 2231 all audiofiles 2231\n",
      "start process Neutral all imagefiles 2124 all audiofiles 2124\n",
      "start process Sad all imagefiles 2511 all audiofiles 2511\n",
      "process all files\n",
      "shape (1467, 10, 128)\n"
     ]
    }
   ],
   "source": [
    "from CNNBiLSTM_LoadData import load_data\n",
    "from tensorflow.keras.utils import to_categorical\n",
    "import numpy as np\n",
    "\n",
    "data_batches = load_data('VideoFrameAudio-Simple-40')\n",
    "\n",
    "for item in data_batches:\n",
    "    normalized_images = [image_data / 255.0 for image_data in item['images']]\n",
    "    item['images'] = np.array(normalized_images)\n",
    "\n",
    "from tensorflow.keras.utils import to_categorical\n",
    "image_data = [item['images'] for item in data_batches]\n",
    "image_data = np.array(image_data)\n",
    "\n",
    "audio_data = [item['audio'] for item in data_batches]\n",
    "audio_data = np.array(audio_data).reshape(-1,10,128)\n",
    "print(f\"shape {audio_data.shape}\")\n",
    "\n",
    "categories = [item['category'] for item in data_batches]\n",
    "categories = np.array(categories)\n",
    "num_classes = len(np.unique(categories))\n",
    "labels = to_categorical(categories, num_classes)"
   ]
  },
  {
   "cell_type": "code",
   "execution_count": 1,
   "metadata": {},
   "outputs": [
    {
     "ename": "NameError",
     "evalue": "name 'np' is not defined",
     "output_type": "error",
     "traceback": [
      "\u001b[0;31m---------------------------------------------------------------------------\u001b[0m",
      "\u001b[0;31mNameError\u001b[0m                                 Traceback (most recent call last)",
      "Cell \u001b[0;32mIn[1], line 1\u001b[0m\n\u001b[0;32m----> 1\u001b[0m \u001b[43mnp\u001b[49m\u001b[38;5;241m.\u001b[39msave(\u001b[38;5;124m'\u001b[39m\u001b[38;5;124mimage_data.npy\u001b[39m\u001b[38;5;124m'\u001b[39m,image_data)\n\u001b[1;32m      2\u001b[0m np\u001b[38;5;241m.\u001b[39msave(\u001b[38;5;124m'\u001b[39m\u001b[38;5;124maudio_data.npy\u001b[39m\u001b[38;5;124m'\u001b[39m,audio_data)\n\u001b[1;32m      3\u001b[0m np\u001b[38;5;241m.\u001b[39msave(\u001b[38;5;124m'\u001b[39m\u001b[38;5;124mlabels.npy\u001b[39m\u001b[38;5;124m'\u001b[39m,labels)\n",
      "\u001b[0;31mNameError\u001b[0m: name 'np' is not defined"
     ]
    }
   ],
   "source": [
    "np.save('image_data.npy',image_data)\n",
    "np.save('audio_data.npy',audio_data)\n",
    "np.save('labels.npy',labels)"
   ]
  },
  {
   "cell_type": "code",
   "execution_count": 1,
   "metadata": {},
   "outputs": [],
   "source": [
    "import numpy as np\n",
    "image_data = np.load('image_data.npy')\n",
    "audio_data = np.load('audio_data.npy')\n",
    "labels = np.load('labels.npy')"
   ]
  },
  {
   "cell_type": "code",
   "execution_count": 2,
   "metadata": {},
   "outputs": [
    {
     "name": "stderr",
     "output_type": "stream",
     "text": [
      "2024-01-05 02:19:29.135692: I tensorflow/core/util/port.cc:110] oneDNN custom operations are on. You may see slightly different numerical results due to floating-point round-off errors from different computation orders. To turn them off, set the environment variable `TF_ENABLE_ONEDNN_OPTS=0`.\n",
      "2024-01-05 02:19:29.180964: I tensorflow/core/platform/cpu_feature_guard.cc:182] This TensorFlow binary is optimized to use available CPU instructions in performance-critical operations.\n",
      "To enable the following instructions: AVX2 AVX512F AVX512_VNNI FMA, in other operations, rebuild TensorFlow with the appropriate compiler flags.\n",
      "2024-01-05 02:19:29.802084: W tensorflow/compiler/tf2tensorrt/utils/py_utils.cc:38] TF-TRT Warning: Could not find TensorRT\n",
      "2024-01-05 02:19:30.822046: I tensorflow/core/common_runtime/gpu/gpu_device.cc:1639] Created device /job:localhost/replica:0/task:0/device:GPU:0 with 20954 MB memory:  -> device: 0, name: NVIDIA GeForce RTX 4090, pci bus id: 0000:18:00.0, compute capability: 8.9\n"
     ]
    },
    {
     "name": "stdout",
     "output_type": "stream",
     "text": [
      "WARNING:tensorflow:Layer lstm_1 will not use cuDNN kernels since it doesn't meet the criteria. It will use a generic GPU kernel as fallback when running on GPU.\n",
      "WARNING:tensorflow:Layer lstm_1 will not use cuDNN kernels since it doesn't meet the criteria. It will use a generic GPU kernel as fallback when running on GPU.\n",
      "WARNING:tensorflow:Layer lstm_1 will not use cuDNN kernels since it doesn't meet the criteria. It will use a generic GPU kernel as fallback when running on GPU.\n",
      "Model: \"model_2\"\n",
      "__________________________________________________________________________________________________\n",
      " Layer (type)                Output Shape                 Param #   Connected to                  \n",
      "==================================================================================================\n",
      " input_1 (InputLayer)        [(None, 10, 50, 50, 3)]      0         []                            \n",
      "                                                                                                  \n",
      " input_2 (InputLayer)        [(None, 10, 128)]            0         []                            \n",
      "                                                                                                  \n",
      " time_distributed (TimeDist  (None, 10, 512)              1119046   ['input_1[0][0]']             \n",
      " ributed)                                                 4                                       \n",
      "                                                                                                  \n",
      " time_distributed_audio (Ti  (None, 10, 512)              3858304   ['input_2[0][0]']             \n",
      " meDistributed)                                                                                   \n",
      "                                                                                                  \n",
      " bidirectional (Bidirection  (None, 512)                  1574912   ['time_distributed[0][0]']    \n",
      " al)                                                                                              \n",
      "                                                                                                  \n",
      " bidirectional_1 (Bidirecti  (None, 256)                  656384    ['time_distributed_audio[0][0]\n",
      " onal)                                                              ']                            \n",
      "                                                                                                  \n",
      " concatenate (Concatenate)   (None, 768)                  0         ['bidirectional[0][0]',       \n",
      "                                                                     'bidirectional_1[0][0]']     \n",
      "                                                                                                  \n",
      " dense (Dense)               (None, 6)                    4614      ['concatenate[0][0]']         \n",
      "                                                                                                  \n",
      "==================================================================================================\n",
      "Total params: 17284678 (65.94 MB)\n",
      "Trainable params: 4614 (18.02 KB)\n",
      "Non-trainable params: 17280064 (65.92 MB)\n",
      "__________________________________________________________________________________________________\n"
     ]
    }
   ],
   "source": [
    "from keras.models import Model\n",
    "from keras.layers import Input, Concatenate, Dense,Bidirectional, LSTM,TimeDistributed\n",
    "from keras.optimizers import Adam\n",
    "import tensorflow as tf\n",
    "\n",
    "\n",
    "# 加载预训练模型\n",
    "pretrained_cnn_bilstm_image = tf.keras.models.load_model(\"Weights/CNNBiLSTM_image_resnet182d_multiplex_epoch_26.h5\")\n",
    "pretrained_cnn_bilstm_audio = tf.keras.models.load_model(\"Weights/CNNBiLSTM_audio_resnet181d_multiplex_epoch_139.h5\")\n",
    "\n",
    "# 移除顶层\n",
    "image_model = Model(inputs=pretrained_cnn_bilstm_image.input,\n",
    "                    outputs=pretrained_cnn_bilstm_image.layers[-2].output)\n",
    "audio_model = Model(inputs=pretrained_cnn_bilstm_audio.input,\n",
    "                    outputs=pretrained_cnn_bilstm_audio.layers[-2].output)\n",
    "\n",
    "# 冻结预训练模型的权重\n",
    "for layer in image_model.layers:\n",
    "    layer.trainable = False\n",
    "for layer in audio_model.layers:\n",
    "    layer.trainable = False\n",
    "\n",
    "# 合并模型\n",
    "merged_output = Concatenate()([image_model.output, audio_model.output])\n",
    "# merged_output = audio_model.output\n",
    "\n",
    "# 添加新的顶层\n",
    "# merged_output = Dense(128, activation='relu')(merged_output)\n",
    "final_output = Dense(6, activation='softmax')(merged_output)\n",
    "\n",
    "# 创建新的多模态模型\n",
    "multi_modal_model = Model(inputs=[image_model.input, audio_model.input], outputs=final_output)\n",
    "# multi_modal_model = Model(inputs=audio_model.input, outputs=final_output)\n",
    "\n",
    "\n",
    "# 编译模型，较小的初始学习率\n",
    "multi_modal_model.compile(optimizer='adam',\n",
    "                          loss='categorical_crossentropy',\n",
    "                          metrics=['accuracy'])\n",
    "\n",
    "# 模型摘要\n",
    "multi_modal_model.summary()"
   ]
  },
  {
   "cell_type": "code",
   "execution_count": 3,
   "metadata": {},
   "outputs": [
    {
     "name": "stdout",
     "output_type": "stream",
     "text": [
      "Epoch 1/10\n"
     ]
    },
    {
     "name": "stderr",
     "output_type": "stream",
     "text": [
      "2024-01-05 02:20:14.145683: I tensorflow/compiler/xla/stream_executor/cuda/cuda_dnn.cc:432] Loaded cuDNN version 8600\n",
      "2024-01-05 02:20:14.462918: I tensorflow/compiler/xla/stream_executor/cuda/cuda_blas.cc:606] TensorFloat-32 will be used for the matrix multiplication. This will only be logged once.\n",
      "2024-01-05 02:20:15.239998: I tensorflow/compiler/xla/service/service.cc:168] XLA service 0x7f46e8021970 initialized for platform CUDA (this does not guarantee that XLA will be used). Devices:\n",
      "2024-01-05 02:20:15.240062: I tensorflow/compiler/xla/service/service.cc:176]   StreamExecutor device (0): NVIDIA GeForce RTX 4090, Compute Capability 8.9\n",
      "2024-01-05 02:20:15.248172: I tensorflow/compiler/mlir/tensorflow/utils/dump_mlir_util.cc:255] disabling MLIR crash reproducer, set env var `MLIR_CRASH_REPRODUCER_DIRECTORY` to enable.\n"
     ]
    },
    {
     "name": "stdout",
     "output_type": "stream",
     "text": [
      "  1/133 [..............................] - ETA: 26:53 - loss: 2.0291 - accuracy: 0.2000"
     ]
    },
    {
     "name": "stderr",
     "output_type": "stream",
     "text": [
      "2024-01-05 02:20:15.444297: I ./tensorflow/compiler/jit/device_compiler.h:186] Compiled cluster using XLA!  This line is logged at most once for the lifetime of the process.\n"
     ]
    },
    {
     "name": "stdout",
     "output_type": "stream",
     "text": [
      "133/133 [==============================] - ETA: 0s - loss: 1.1558 - accuracy: 0.7023\n",
      "Epoch 1: saving model to temp/CNNBiLSTM_Visual_Audio_01.h5\n"
     ]
    },
    {
     "name": "stderr",
     "output_type": "stream",
     "text": [
      "/root/miniconda3/lib/python3.10/site-packages/keras/src/engine/training.py:3000: UserWarning: You are saving your model as an HDF5 file via `model.save()`. This file format is considered legacy. We recommend using instead the native Keras format, e.g. `model.save('my_model.keras')`.\n",
      "  saving_api.save_model(\n"
     ]
    },
    {
     "name": "stdout",
     "output_type": "stream",
     "text": [
      "133/133 [==============================] - 38s 192ms/step - loss: 1.1558 - accuracy: 0.7023 - val_loss: 0.7345 - val_accuracy: 0.9195\n",
      "Epoch 2/10\n",
      "133/133 [==============================] - ETA: 0s - loss: 0.5386 - accuracy: 0.9660\n",
      "Epoch 2: saving model to temp/CNNBiLSTM_Visual_Audio_02.h5\n",
      "133/133 [==============================] - 15s 116ms/step - loss: 0.5386 - accuracy: 0.9660 - val_loss: 0.3885 - val_accuracy: 0.9882\n",
      "Epoch 3/10\n",
      "133/133 [==============================] - ETA: 0s - loss: 0.3166 - accuracy: 0.9862\n",
      "Epoch 3: saving model to temp/CNNBiLSTM_Visual_Audio_03.h5\n",
      "133/133 [==============================] - 14s 104ms/step - loss: 0.3166 - accuracy: 0.9862 - val_loss: 0.2468 - val_accuracy: 0.9936\n",
      "Epoch 4/10\n",
      "133/133 [==============================] - ETA: 0s - loss: 0.2161 - accuracy: 0.9916\n",
      "Epoch 4: saving model to temp/CNNBiLSTM_Visual_Audio_04.h5\n",
      "133/133 [==============================] - 15s 113ms/step - loss: 0.2161 - accuracy: 0.9916 - val_loss: 0.1785 - val_accuracy: 0.9945\n",
      "Epoch 5/10\n",
      "133/133 [==============================] - ETA: 0s - loss: 0.1621 - accuracy: 0.9931\n",
      "Epoch 5: saving model to temp/CNNBiLSTM_Visual_Audio_05.h5\n",
      "133/133 [==============================] - 15s 111ms/step - loss: 0.1621 - accuracy: 0.9931 - val_loss: 0.1382 - val_accuracy: 0.9947\n",
      "Epoch 6/10\n",
      "133/133 [==============================] - ETA: 0s - loss: 0.1296 - accuracy: 0.9939\n",
      "Epoch 6: saving model to temp/CNNBiLSTM_Visual_Audio_06.h5\n",
      "133/133 [==============================] - 14s 102ms/step - loss: 0.1296 - accuracy: 0.9939 - val_loss: 0.1123 - val_accuracy: 0.9956\n",
      "Epoch 7/10\n",
      "133/133 [==============================] - ETA: 0s - loss: 0.1071 - accuracy: 0.9950\n",
      "Epoch 7: saving model to temp/CNNBiLSTM_Visual_Audio_07.h5\n",
      "133/133 [==============================] - 15s 111ms/step - loss: 0.1071 - accuracy: 0.9950 - val_loss: 0.0952 - val_accuracy: 0.9952\n",
      "Epoch 8/10\n",
      "133/133 [==============================] - ETA: 0s - loss: 0.0911 - accuracy: 0.9952\n",
      "Epoch 8: saving model to temp/CNNBiLSTM_Visual_Audio_08.h5\n",
      "133/133 [==============================] - 15s 114ms/step - loss: 0.0911 - accuracy: 0.9952 - val_loss: 0.0818 - val_accuracy: 0.9958\n",
      "Epoch 9/10\n",
      "133/133 [==============================] - ETA: 0s - loss: 0.0790 - accuracy: 0.9965\n",
      "Epoch 9: saving model to temp/CNNBiLSTM_Visual_Audio_09.h5\n",
      "133/133 [==============================] - 15s 109ms/step - loss: 0.0790 - accuracy: 0.9965 - val_loss: 0.0743 - val_accuracy: 0.9947\n",
      "Epoch 10/10\n",
      "133/133 [==============================] - ETA: 0s - loss: 0.0704 - accuracy: 0.9957\n",
      "Epoch 10: saving model to temp/CNNBiLSTM_Visual_Audio_10.h5\n",
      "133/133 [==============================] - 13s 99ms/step - loss: 0.0704 - accuracy: 0.9957 - val_loss: 0.0636 - val_accuracy: 0.9968\n"
     ]
    }
   ],
   "source": [
    "from sklearn.utils import shuffle\n",
    "\n",
    "# image_data, labels = shuffle(image_data, labels, random_state=42) # random_state 参数确保了结果可以复现\n",
    "\n",
    "assert len(image_data) == len(audio_data) == len(labels)\n",
    "# 生成一个打乱的索引数组\n",
    "permutation = np.random.permutation(len(labels))\n",
    "# 用这个索引数组来重新排序每个数据集\n",
    "image_shuffled = image_data[permutation]\n",
    "audio_shuffled = audio_data[permutation]\n",
    "labels_shuffled = labels[permutation]\n",
    "\n",
    "# 训练模型\n",
    "from keras.callbacks import ModelCheckpoint\n",
    "# 配置模型检查点\n",
    "checkpoint = ModelCheckpoint(\n",
    "    'temp/CNNBiLSTM_Visual_Audio_{epoch:02d}.h5',  # 文件路径，其中{epoch:02d}是格式化字符串，用于在文件名中包含epoch编号\n",
    "    monitor='val_accuracy',            # 可以是'val_loss', 'val_accuracy', 'loss', 'accuracy'等\n",
    "    verbose=1,                        # 日志显示模式，0或1\n",
    "    save_best_only=False,             # 如果设置为True，则只保存在验证集上性能最好的模型\n",
    "    save_weights_only=False,          # 如果设置为True，则只保存模型的权重，如果为False，则保存整个模型\n",
    "    mode='auto',                      # 可以是'auto', 'min', 'max'，决定了监控指标是应该最大化还是最小化\n",
    "    save_freq='epoch'                 # 检查点之间的间隔（每个epoch）\n",
    ")\n",
    "history = multi_modal_model.fit(\n",
    "    [image_shuffled, audio_shuffled], labels_shuffled, \n",
    "    # audio_shuffled, labels_shuffled, \n",
    "    epochs=10, \n",
    "    batch_size=100, \n",
    "    validation_split=0.3,\n",
    "    callbacks=[checkpoint],\n",
    "    verbose=1,\n",
    "    workers=128,\n",
    "    shuffle=True\n",
    ")"
   ]
  },
  {
   "cell_type": "code",
   "execution_count": 4,
   "metadata": {},
   "outputs": [
    {
     "data": {
      "image/png": "[encoded data removed]",
      "text/plain": [
       "<Figure size 640x480 with 1 Axes>"
      ]
     },
     "metadata": {},
     "output_type": "display_data"
    },
    {
     "data": {
      "image/png": "[encoded data removed]",
      "text/plain": [
       "<Figure size 640x480 with 1 Axes>"
      ]
     },
     "metadata": {},
     "output_type": "display_data"
    }
   ],
   "source": [
    "from CNNBiLSTM_LoadData import draw_history\n",
    "draw_history(history,10)"
   ]
  }
 ],
 "metadata": {
  "kernelspec": {
   "display_name": "Python 3 (ipykernel)",
   "language": "python",
   "name": "python3"
  },
  "language_info": {
   "codemirror_mode": {
    "name": "ipython",
    "version": 3
   },
   "file_extension": ".py",
   "mimetype": "text/x-python",
   "name": "python",
   "nbconvert_exporter": "python",
   "pygments_lexer": "ipython3",
   "version": "3.10.8"
  }
 },
 "nbformat": 4,
 "nbformat_minor": 4
}
