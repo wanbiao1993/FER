{
 "cells": [
  {
   "cell_type": "code",
   "execution_count": 1,
   "metadata": {
    "tags": []
   },
   "outputs": [
    {
     "name": "stderr",
     "output_type": "stream",
     "text": [
      "2024-01-01 15:36:30.057633: I tensorflow/core/util/port.cc:110] oneDNN custom operations are on. You may see slightly different numerical results due to floating-point round-off errors from different computation orders. To turn them off, set the environment variable `TF_ENABLE_ONEDNN_OPTS=0`.\n",
      "2024-01-01 15:36:30.120568: I tensorflow/core/platform/cpu_feature_guard.cc:182] This TensorFlow binary is optimized to use available CPU instructions in performance-critical operations.\n",
      "To enable the following instructions: AVX2 AVX512F AVX512_VNNI FMA, in other operations, rebuild TensorFlow with the appropriate compiler flags.\n",
      "2024-01-01 15:36:31.059388: W tensorflow/compiler/tf2tensorrt/utils/py_utils.cc:38] TF-TRT Warning: Could not find TensorRT\n"
     ]
    }
   ],
   "source": [
    "#!TF_ENABLE_DEPRECATION_WARNINGS=1\n",
    "import os\n",
    "import pickle\n",
    "import numpy as np\n",
    "from tensorflow.keras.utils import to_categorical\n",
    "from tensorflow.keras.models import Sequential\n",
    "from tensorflow.keras.layers import TimeDistributed, Conv2D, MaxPooling2D, Flatten, Bidirectional, LSTM, Dense,Dropout,BatchNormalization,Activation\n",
    "from pympler import asizeof\n",
    "import gc\n",
    "import sys\n",
    "import tensorflow as tf\n",
    "from tensorflow.keras.callbacks import TensorBoard\n",
    "from sklearn.model_selection import train_test_split\n",
    "from keras.callbacks import ModelCheckpoint\n",
    "from tensorflow.keras.applications import DenseNet201"
   ]
  },
  {
   "cell_type": "code",
   "execution_count": 2,
   "metadata": {},
   "outputs": [
    {
     "name": "stdout",
     "output_type": "stream",
     "text": [
      "[PhysicalDevice(name='/physical_device:GPU:0', device_type='GPU')] [PhysicalDevice(name='/physical_device:CPU:0', device_type='CPU')]\n"
     ]
    }
   ],
   "source": [
    "import tensorflow as tf\n",
    "gpus = tf.config.experimental.list_physical_devices(device_type='GPU')\n",
    "cpus = tf.config.experimental.list_physical_devices(device_type='CPU')\n",
    "print(gpus, cpus)"
   ]
  },
  {
   "cell_type": "code",
   "execution_count": 3,
   "metadata": {
    "tags": []
   },
   "outputs": [],
   "source": [
    "# 加载 pickle 文件的函数\n",
    "# 注意需要非常大的内存 实验使用了80G内存\n",
    "def load_pickle_file(filename):\n",
    "    with open(filename, 'rb') as file:\n",
    "        data = pickle.load(file)\n",
    "    return data\n",
    "\n",
    "def load_pickle(number):\n",
    "    # 初始化列表以存储数据\n",
    "    x_data = []\n",
    "    y_data = []\n",
    "    # 遍历当前目录的文件\n",
    "    for file in os.listdir('VideoFramePickle'):\n",
    "        if file.endswith(f'_x_{number}.pickle'):\n",
    "            print(f\"filename ---{file}\")\n",
    "            # 直接加载 x 数据\n",
    "            x = load_pickle_file(os.path.join('VideoFramePickle',file))\n",
    "            x_data.append(x)\n",
    "        elif file.endswith(f'_y_{number}.pickle'):\n",
    "            print(f\"filename ---{file}\")\n",
    "            # 直接加载 y 数据\n",
    "            y = load_pickle_file(os.path.join('VideoFramePickle',file))\n",
    "            y_data.append(y)\n",
    "    return x_data,y_data\n"
   ]
  },
  {
   "cell_type": "code",
   "execution_count": 4,
   "metadata": {
    "tags": []
   },
   "outputs": [],
   "source": [
    "image_size=50\n",
    "def process_data_for_model(x,y):\n",
    "    # 合并所有的 x 和 y 数据\n",
    "    # 注意需要非常大的内存 实验使用了80G内存\n",
    "    x_all = np.concatenate(x, axis=0) if x else np.array([])\n",
    "    # y_all = np.concatenate(y, axis=0) if y else np.array([])\n",
    "    y_all = np.concatenate(y)\n",
    "    images_array = np.array(x_all)\n",
    "    x_all = images_array.reshape(-1, 10, image_size, image_size, 3)\n",
    "    ## 释放部分内存\n",
    "    del x\n",
    "    del y\n",
    "    del images_array\n",
    "    print(x_all.shape)\n",
    "    # print(len(y_all))\n",
    "    ## 将60G数据分成5份之后，每一份大约12G左右\n",
    "    print(asizeof.asizeof(x_all)/1024/1024/1024)\n",
    "    ## 手动触发GC\n",
    "    gc_count = gc.collect()\n",
    "    # print(gc_count)\n",
    "    return x_all,y_all\n",
    "\n"
   ]
  },
  {
   "cell_type": "code",
   "execution_count": 5,
   "metadata": {
    "tags": []
   },
   "outputs": [
    {
     "name": "stdout",
     "output_type": "stream",
     "text": [
      "filename ---Neutral_x_1.pickle\n",
      "filename ---Neutral_y_1.pickle\n",
      "filename ---Happy_x_1.pickle\n",
      "filename ---Happy_y_1.pickle\n",
      "filename ---Fear_x_1.pickle\n",
      "filename ---Fear_y_1.pickle\n",
      "filename ---Anger_x_1.pickle\n",
      "filename ---Anger_y_1.pickle\n",
      "filename ---Sad_x_1.pickle\n",
      "filename ---Sad_y_1.pickle\n",
      "filename ---Disgust_x_1.pickle\n",
      "filename ---Disgust_y_1.pickle\n",
      "(56922, 10, 50, 50, 3)\n",
      "3.9759561121463776\n"
     ]
    }
   ],
   "source": [
    "x_data,y_data = load_pickle(1)\n",
    "x_all,y_all = process_data_for_model(x_data,y_data)"
   ]
  },
  {
   "cell_type": "code",
   "execution_count": 6,
   "metadata": {},
   "outputs": [
    {
     "name": "stdout",
     "output_type": "stream",
     "text": [
      "7906 8898 9577 9865 9896 10780\n"
     ]
    }
   ],
   "source": [
    "print(f\"{len(x_data[0])} {len(x_data[1])} {len(x_data[2])} {len(x_data[3])} {len(x_data[4])} {len(x_data[5])}\")"
   ]
  },
  {
   "cell_type": "code",
   "execution_count": 7,
   "metadata": {
    "tags": []
   },
   "outputs": [
    {
     "name": "stdout",
     "output_type": "stream",
     "text": [
      "7906 8898 9577 9865 9896 10780\n"
     ]
    }
   ],
   "source": [
    "print(f\"{len(y_data[0])} {len(y_data[1])} {len(y_data[2])} {len(y_data[3])} {len(y_data[4])} {len(y_data[5])}\")"
   ]
  },
  {
   "cell_type": "code",
   "execution_count": 8,
   "metadata": {
    "tags": []
   },
   "outputs": [],
   "source": [
    "# 获取 y_all 的类别数，用于 one-hot 编码\n",
    "num_classes = len(np.unique(y_all))\n",
    "# 进行 one-hot 编码\n",
    "y_all = to_categorical(y_all, num_classes)\n"
   ]
  },
  {
   "cell_type": "code",
   "execution_count": 9,
   "metadata": {
    "tags": []
   },
   "outputs": [],
   "source": [
    "## 归一化\n",
    "x_all=x_all/255.0"
   ]
  },
  {
   "cell_type": "code",
   "execution_count": 10,
   "metadata": {
    "tags": []
   },
   "outputs": [
    {
     "name": "stdout",
     "output_type": "stream",
     "text": [
      "10\n",
      "50\n",
      "50\n",
      "3\n"
     ]
    }
   ],
   "source": [
    "# 获取输入数据的维度信息\n",
    "time_steps, height, width, channels = x_all.shape[1:]\n",
    "print(time_steps)\n",
    "print(height)\n",
    "print(width)\n",
    "print(channels)"
   ]
  },
  {
   "cell_type": "code",
   "execution_count": 11,
   "metadata": {},
   "outputs": [],
   "source": [
    "#保存文件，下次直接使用\n",
    "# 单独保存每个数组到.npy文件\n",
    "np.save('VideoFramePickle/x_all.npy', x_all)\n",
    "np.save('VideoFramePickle/y_all.npy', y_all)"
   ]
  },
  {
   "cell_type": "code",
   "execution_count": 5,
   "metadata": {},
   "outputs": [],
   "source": [
    "#直接加载文件\n",
    "x_all = np.load('VideoFramePickle/x_all.npy')\n",
    "y_all = np.load('VideoFramePickle/y_all.npy')"
   ]
  },
  {
   "cell_type": "code",
   "execution_count": 6,
   "metadata": {},
   "outputs": [],
   "source": [
    "# 现在，可以使用来训练模型\n",
    "x_train, x_second, y_train, y_second = train_test_split(x_all, y_all, test_size=0.1, random_state=42)"
   ]
  },
  {
   "cell_type": "code",
   "execution_count": 7,
   "metadata": {},
   "outputs": [],
   "source": [
    "np.save('VideoFramePickle/x_train.npy', x_train)\n",
    "np.save('VideoFramePickle/y_train.npy', y_train)"
   ]
  },
  {
   "cell_type": "code",
   "execution_count": 8,
   "metadata": {},
   "outputs": [],
   "source": [
    "np.save('VideoFramePickle/x_test.npy', x_second)\n",
    "np.save('VideoFramePickle/y_test.npy', y_second)"
   ]
  },
  {
   "cell_type": "code",
   "execution_count": 5,
   "metadata": {},
   "outputs": [],
   "source": [
    "x_train = np.load('VideoFramePickle/x_train.npy')\n",
    "y_train = np.load('VideoFramePickle/y_train.npy')"
   ]
  },
  {
   "cell_type": "code",
   "execution_count": 6,
   "metadata": {
    "tags": []
   },
   "outputs": [
    {
     "name": "stderr",
     "output_type": "stream",
     "text": [
      "2024-01-01 15:36:58.119197: I tensorflow/core/common_runtime/gpu/gpu_device.cc:1639] Created device /job:localhost/replica:0/task:0/device:GPU:0 with 22288 MB memory:  -> device: 0, name: NVIDIA GeForce RTX 4090, pci bus id: 0000:18:00.0, compute capability: 8.9\n"
     ]
    },
    {
     "name": "stdout",
     "output_type": "stream",
     "text": [
      "Model: \"sequential\"\n",
      "_________________________________________________________________\n",
      " Layer (type)                Output Shape              Param #   \n",
      "=================================================================\n",
      " time_distributed (TimeDist  (None, 10, 1, 1, 1920)    18321984  \n",
      " ributed)                                                        \n",
      "                                                                 \n",
      " time_distributed_1 (TimeDi  (None, 10, 1920)          0         \n",
      " stributed)                                                      \n",
      "                                                                 \n",
      " bidirectional (Bidirection  (None, 200)               1616800   \n",
      " al)                                                             \n",
      "                                                                 \n",
      " dense (Dense)               (None, 64)                12864     \n",
      "                                                                 \n",
      " dense_1 (Dense)             (None, 32)                2080      \n",
      "                                                                 \n",
      " dense_2 (Dense)             (None, 6)                 198       \n",
      "                                                                 \n",
      "=================================================================\n",
      "Total params: 19953926 (76.12 MB)\n",
      "Trainable params: 19724870 (75.24 MB)\n",
      "Non-trainable params: 229056 (894.75 KB)\n",
      "_________________________________________________________________\n"
     ]
    }
   ],
   "source": [
    "time_steps, height, width, channels = 10, 50, 50, 3\n",
    "num_classes = 6\n",
    "\n",
    "# 构建 CNN-BiLSTM 模型\n",
    "model = Sequential()\n",
    "\n",
    "# 加载 DenseNet201 模型，不包括顶层（即全连接层），使用预训练的权重\n",
    "# 注意：DenseNet201 默认的输入尺寸是 224x224。在这里我们使用 50x50，这可能不是最优的。\n",
    "base_model = DenseNet201(include_top=False, weights='imagenet', input_shape=(height, width, channels))\n",
    "\n",
    "# 将 DenseNet201 作为 TimeDistributed 层添加到模型中\n",
    "model.add(TimeDistributed(base_model, input_shape=(time_steps, height, width, channels)))\n",
    "\n",
    "# 对特征图进行扁平化处理，为序列处理层准备\n",
    "model.add(TimeDistributed(Flatten()))\n",
    "\n",
    "# 添加双向 LSTM 层来处理时间序列，这里不返回序列，只返回最后一个输出\n",
    "model.add(Bidirectional(LSTM(units=100, return_sequences=False)))\n",
    "\n",
    "# 添加全连接层\n",
    "model.add(Dense(units=64, activation='relu'))\n",
    "model.add(Dense(units=32, activation='relu'))\n",
    "\n",
    "# 添加全连接层输出最终预测，使用 softmax 函数进行多类分类\n",
    "model.add(Dense(units=num_classes, activation='softmax'))\n",
    "\n",
    "# 编译模型\n",
    "LR = 0.0001\n",
    "opt = tf.keras.optimizers.Adam(learning_rate=LR)\n",
    "model.compile(optimizer=opt, loss='categorical_crossentropy', metrics=['accuracy'])\n",
    "\n",
    "# 打印模型结构\n",
    "model.summary()"
   ]
  },
  {
   "cell_type": "code",
   "execution_count": 7,
   "metadata": {
    "tags": []
   },
   "outputs": [
    {
     "name": "stdout",
     "output_type": "stream",
     "text": [
      "Epoch 1/20\n"
     ]
    },
    {
     "name": "stderr",
     "output_type": "stream",
     "text": [
      "2024-01-01 15:38:07.443308: I tensorflow/compiler/xla/stream_executor/cuda/cuda_dnn.cc:432] Loaded cuDNN version 8600\n",
      "2024-01-01 15:38:09.410932: I tensorflow/compiler/xla/stream_executor/cuda/cuda_blas.cc:606] TensorFloat-32 will be used for the matrix multiplication. This will only be logged once.\n",
      "2024-01-01 15:38:09.439523: I tensorflow/compiler/xla/service/service.cc:168] XLA service 0x888ae90 initialized for platform CUDA (this does not guarantee that XLA will be used). Devices:\n",
      "2024-01-01 15:38:09.439579: I tensorflow/compiler/xla/service/service.cc:176]   StreamExecutor device (0): NVIDIA GeForce RTX 4090, Compute Capability 8.9\n",
      "2024-01-01 15:38:09.449970: I tensorflow/compiler/mlir/tensorflow/utils/dump_mlir_util.cc:255] disabling MLIR crash reproducer, set env var `MLIR_CRASH_REPRODUCER_DIRECTORY` to enable.\n",
      "2024-01-01 15:38:09.624679: I ./tensorflow/compiler/jit/device_compiler.h:186] Compiled cluster using XLA!  This line is logged at most once for the lifetime of the process.\n"
     ]
    },
    {
     "name": "stdout",
     "output_type": "stream",
     "text": [
      "2050/2050 [==============================] - ETA: 0s - loss: 1.3045 - accuracy: 0.4818\n",
      "Epoch 1: saving model to CNNBiLSTM_epoch_01.h5\n"
     ]
    },
    {
     "name": "stderr",
     "output_type": "stream",
     "text": [
      "/root/miniconda3/lib/python3.10/site-packages/keras/src/engine/training.py:3000: UserWarning: You are saving your model as an HDF5 file via `model.save()`. This file format is considered legacy. We recommend using instead the native Keras format, e.g. `model.save('my_model.keras')`.\n",
      "  saving_api.save_model(\n"
     ]
    },
    {
     "name": "stdout",
     "output_type": "stream",
     "text": [
      "2050/2050 [==============================] - 510s 194ms/step - loss: 1.3045 - accuracy: 0.4818 - val_loss: 1.0062 - val_accuracy: 0.6180\n",
      "Epoch 2/20\n",
      "2050/2050 [==============================] - ETA: 0s - loss: 0.9525 - accuracy: 0.6427\n",
      "Epoch 2: saving model to CNNBiLSTM_epoch_02.h5\n",
      "2050/2050 [==============================] - 360s 176ms/step - loss: 0.9525 - accuracy: 0.6427 - val_loss: 0.8627 - val_accuracy: 0.6781\n",
      "Epoch 3/20\n",
      "2050/2050 [==============================] - ETA: 0s - loss: 0.7909 - accuracy: 0.7136\n",
      "Epoch 3: saving model to CNNBiLSTM_epoch_03.h5\n",
      "2050/2050 [==============================] - 352s 172ms/step - loss: 0.7909 - accuracy: 0.7136 - val_loss: 0.7582 - val_accuracy: 0.7165\n",
      "Epoch 4/20\n",
      "2050/2050 [==============================] - ETA: 0s - loss: 0.6868 - accuracy: 0.7514\n",
      "Epoch 4: saving model to CNNBiLSTM_epoch_04.h5\n",
      "2050/2050 [==============================] - 352s 172ms/step - loss: 0.6868 - accuracy: 0.7514 - val_loss: 0.7730 - val_accuracy: 0.7210\n",
      "Epoch 5/20\n",
      "2050/2050 [==============================] - ETA: 0s - loss: 0.5991 - accuracy: 0.7884\n",
      "Epoch 5: saving model to CNNBiLSTM_epoch_05.h5\n",
      "2050/2050 [==============================] - 350s 171ms/step - loss: 0.5991 - accuracy: 0.7884 - val_loss: 0.6251 - val_accuracy: 0.7771\n",
      "Epoch 6/20\n",
      "2050/2050 [==============================] - ETA: 0s - loss: 0.5230 - accuracy: 0.8161\n",
      "Epoch 6: saving model to CNNBiLSTM_epoch_06.h5\n",
      "2050/2050 [==============================] - 357s 174ms/step - loss: 0.5230 - accuracy: 0.8161 - val_loss: 0.5982 - val_accuracy: 0.7911\n",
      "Epoch 7/20\n",
      "2050/2050 [==============================] - ETA: 0s - loss: 0.4577 - accuracy: 0.8414\n",
      "Epoch 7: saving model to CNNBiLSTM_epoch_07.h5\n",
      "2050/2050 [==============================] - 349s 170ms/step - loss: 0.4577 - accuracy: 0.8414 - val_loss: 0.5895 - val_accuracy: 0.7942\n",
      "Epoch 8/20\n",
      "2050/2050 [==============================] - ETA: 0s - loss: 0.4027 - accuracy: 0.8573\n",
      "Epoch 8: saving model to CNNBiLSTM_epoch_08.h5\n",
      "2050/2050 [==============================] - 352s 171ms/step - loss: 0.4027 - accuracy: 0.8573 - val_loss: 0.5119 - val_accuracy: 0.8202\n",
      "Epoch 9/20\n",
      "2050/2050 [==============================] - ETA: 0s - loss: 0.3613 - accuracy: 0.8750\n",
      "Epoch 9: saving model to CNNBiLSTM_epoch_09.h5\n",
      "2050/2050 [==============================] - 354s 173ms/step - loss: 0.3613 - accuracy: 0.8750 - val_loss: 0.5235 - val_accuracy: 0.8225\n",
      "Epoch 10/20\n",
      "2050/2050 [==============================] - ETA: 0s - loss: 0.3252 - accuracy: 0.8876\n",
      "Epoch 10: saving model to CNNBiLSTM_epoch_10.h5\n",
      "2050/2050 [==============================] - 346s 169ms/step - loss: 0.3252 - accuracy: 0.8876 - val_loss: 0.5524 - val_accuracy: 0.8179\n",
      "Epoch 11/20\n",
      "2050/2050 [==============================] - ETA: 0s - loss: 0.2835 - accuracy: 0.9025\n",
      "Epoch 11: saving model to CNNBiLSTM_epoch_11.h5\n",
      "2050/2050 [==============================] - 345s 168ms/step - loss: 0.2835 - accuracy: 0.9025 - val_loss: 0.5899 - val_accuracy: 0.8122\n",
      "Epoch 12/20\n",
      "2050/2050 [==============================] - ETA: 0s - loss: 0.2659 - accuracy: 0.9121\n",
      "Epoch 12: saving model to CNNBiLSTM_epoch_12.h5\n",
      "2050/2050 [==============================] - 345s 168ms/step - loss: 0.2659 - accuracy: 0.9121 - val_loss: 0.5672 - val_accuracy: 0.8195\n",
      "Epoch 13/20\n",
      "2050/2050 [==============================] - ETA: 0s - loss: 0.2381 - accuracy: 0.9185\n",
      "Epoch 13: saving model to CNNBiLSTM_epoch_13.h5\n",
      "2050/2050 [==============================] - 348s 170ms/step - loss: 0.2381 - accuracy: 0.9185 - val_loss: 0.5968 - val_accuracy: 0.8056\n",
      "Epoch 14/20\n",
      "2050/2050 [==============================] - ETA: 0s - loss: 0.2152 - accuracy: 0.9261\n",
      "Epoch 14: saving model to CNNBiLSTM_epoch_14.h5\n",
      "2050/2050 [==============================] - 344s 168ms/step - loss: 0.2152 - accuracy: 0.9261 - val_loss: 0.5772 - val_accuracy: 0.8157\n",
      "Epoch 15/20\n",
      "2050/2050 [==============================] - ETA: 0s - loss: 0.1959 - accuracy: 0.9327\n",
      "Epoch 15: saving model to CNNBiLSTM_epoch_15.h5\n",
      "2050/2050 [==============================] - 345s 168ms/step - loss: 0.1959 - accuracy: 0.9327 - val_loss: 0.4964 - val_accuracy: 0.8353\n",
      "Epoch 16/20\n",
      "2050/2050 [==============================] - ETA: 0s - loss: 0.1882 - accuracy: 0.9380\n",
      "Epoch 16: saving model to CNNBiLSTM_epoch_16.h5\n",
      "2050/2050 [==============================] - 347s 169ms/step - loss: 0.1882 - accuracy: 0.9380 - val_loss: 0.4760 - val_accuracy: 0.8456\n",
      "Epoch 17/20\n",
      "2050/2050 [==============================] - ETA: 0s - loss: 0.1718 - accuracy: 0.9411\n",
      "Epoch 17: saving model to CNNBiLSTM_epoch_17.h5\n",
      "2050/2050 [==============================] - 340s 166ms/step - loss: 0.1718 - accuracy: 0.9411 - val_loss: 0.5245 - val_accuracy: 0.8373\n",
      "Epoch 18/20\n",
      "2050/2050 [==============================] - ETA: 0s - loss: 0.1492 - accuracy: 0.9498\n",
      "Epoch 18: saving model to CNNBiLSTM_epoch_18.h5\n",
      "2050/2050 [==============================] - 341s 166ms/step - loss: 0.1492 - accuracy: 0.9498 - val_loss: 0.5794 - val_accuracy: 0.8328\n",
      "Epoch 19/20\n",
      "2050/2050 [==============================] - ETA: 0s - loss: 0.1573 - accuracy: 0.9478\n",
      "Epoch 19: saving model to CNNBiLSTM_epoch_19.h5\n",
      "2050/2050 [==============================] - 343s 167ms/step - loss: 0.1573 - accuracy: 0.9478 - val_loss: 0.6084 - val_accuracy: 0.8236\n",
      "Epoch 20/20\n",
      "2050/2050 [==============================] - ETA: 0s - loss: 0.1406 - accuracy: 0.9529\n",
      "Epoch 20: saving model to CNNBiLSTM_epoch_20.h5\n",
      "2050/2050 [==============================] - 344s 168ms/step - loss: 0.1406 - accuracy: 0.9529 - val_loss: 0.6645 - val_accuracy: 0.8181\n"
     ]
    }
   ],
   "source": [
    "# 配置模型检查点\n",
    "checkpoint = ModelCheckpoint(\n",
    "    'CNNBiLSTM_epoch_{epoch:02d}.h5',  # 文件路径，其中{epoch:02d}是格式化字符串，用于在文件名中包含epoch编号\n",
    "    monitor='val_accuracy',            # 可以是'val_loss', 'val_accuracy', 'loss', 'accuracy'等\n",
    "    verbose=1,                        # 日志显示模式，0或1\n",
    "    save_best_only=False,             # 如果设置为True，则只保存在验证集上性能最好的模型\n",
    "    save_weights_only=False,          # 如果设置为True，则只保存模型的权重，如果为False，则保存整个模型\n",
    "    mode='auto',                      # 可以是'auto', 'min', 'max'，决定了监控指标是应该最大化还是最小化\n",
    "    save_freq='epoch'                 # 检查点之间的间隔（每个epoch）\n",
    ")\n",
    "history = model.fit(\n",
    "    x_train, y_train, \n",
    "    epochs=20, \n",
    "    batch_size=10, \n",
    "    # validation_data=(x_val, y_val),\n",
    "    validation_split=0.6,\n",
    "    callbacks=[checkpoint],\n",
    "    verbose=1,\n",
    "    workers=128,\n",
    "    shuffle=True\n",
    ")"
   ]
  },
  {
   "cell_type": "code",
   "execution_count": 9,
   "metadata": {},
   "outputs": [
    {
     "data": {
      "image/png": "[encoded data removed]",
      "text/plain": [
       "<Figure size 640x480 with 1 Axes>"
      ]
     },
     "metadata": {},
     "output_type": "display_data"
    },
    {
     "data": {
      "image/png": "[encoded data removed]",
      "text/plain": [
       "<Figure size 640x480 with 1 Axes>"
      ]
     },
     "metadata": {},
     "output_type": "display_data"
    }
   ],
   "source": [
    "import matplotlib.pyplot as plt\n",
    "epochs = list(range(20))\n",
    "acc = history.history['accuracy']\n",
    "val_acc = history.history['val_accuracy']\n",
    "\n",
    "plt.plot(epochs, acc, label='train accuracy')\n",
    "plt.plot(epochs, val_acc, label='val accuracy')\n",
    "plt.xlabel('epochs')\n",
    "plt.ylabel('accuracy')\n",
    "plt.legend()\n",
    "plt.show()\n",
    "\n",
    "loss = history.history['loss']\n",
    "val_loss = history.history['val_loss']\n",
    "\n",
    "plt.plot(epochs, loss, label='train loss')\n",
    "plt.plot(epochs, val_loss, label='val loss')\n",
    "plt.xlabel('epochs')\n",
    "plt.ylabel('loss')\n",
    "plt.legend()\n",
    "plt.show()"
   ]
  },
  {
   "cell_type": "code",
   "execution_count": 10,
   "metadata": {},
   "outputs": [
    {
     "name": "stdout",
     "output_type": "stream",
     "text": [
      "178/178 [==============================] - 10s 31ms/step - loss: 0.4728 - accuracy: 0.8472\n",
      "loss 0.47283199429512024,acc 0.8471807241439819\n"
     ]
    }
   ],
   "source": [
    "model=tf.keras.models.load_model(\"CNNBiLSTM_epoch_16.h5\")\n",
    "x_test = np.load('VideoFramePickle/x_test.npy')\n",
    "y_test = np.load('VideoFramePickle/y_test.npy')\n",
    "loss,acc = model.evaluate(x_test,y_test)\n",
    "print(f\"loss {loss},acc {acc}\")"
   ]
  },
  {
   "cell_type": "code",
   "execution_count": null,
   "metadata": {},
   "outputs": [],
   "source": []
  }
 ],
 "metadata": {
  "kernelspec": {
   "display_name": "Python 3 (ipykernel)",
   "language": "python",
   "name": "python3"
  },
  "language_info": {
   "codemirror_mode": {
    "name": "ipython",
    "version": 3
   },
   "file_extension": ".py",
   "mimetype": "text/x-python",
   "name": "python",
   "nbconvert_exporter": "python",
   "pygments_lexer": "ipython3",
   "version": "3.10.8"
  }
 },
 "nbformat": 4,
 "nbformat_minor": 4
}
